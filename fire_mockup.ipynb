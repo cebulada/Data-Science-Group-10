{
 "cells": [
  {
   "cell_type": "markdown",
   "metadata": {},
   "source": [
    "# Link to data - [link](https://open.toronto.ca/dataset/fire-services-basic-incident-details/)"
   ]
  },
  {
   "cell_type": "code",
   "execution_count": 1,
   "metadata": {},
   "outputs": [
    {
     "data": {
      "text/plain": [
       "'1.18.1'"
      ]
     },
     "execution_count": 1,
     "metadata": {},
     "output_type": "execute_result"
    }
   ],
   "source": [
    "import numpy as np\n",
    "np.__version__"
   ]
  },
  {
   "cell_type": "code",
   "execution_count": 2,
   "metadata": {},
   "outputs": [
    {
     "data": {
      "text/plain": [
       "'1.0.1'"
      ]
     },
     "execution_count": 2,
     "metadata": {},
     "output_type": "execute_result"
    }
   ],
   "source": [
    "import pandas as pd\n",
    "pd.__version__"
   ]
  },
  {
   "cell_type": "code",
   "execution_count": 3,
   "metadata": {},
   "outputs": [
    {
     "data": {
      "text/plain": [
       "'3.1.3'"
      ]
     },
     "execution_count": 3,
     "metadata": {},
     "output_type": "execute_result"
    }
   ],
   "source": [
    "import matplotlib\n",
    "matplotlib.__version__"
   ]
  },
  {
   "cell_type": "code",
   "execution_count": 4,
   "metadata": {},
   "outputs": [],
   "source": [
    "import matplotlib.pyplot as plt"
   ]
  },
  {
   "cell_type": "code",
   "execution_count": 5,
   "metadata": {},
   "outputs": [],
   "source": [
    "%matplotlib inline"
   ]
  },
  {
   "cell_type": "code",
   "execution_count": 6,
   "metadata": {},
   "outputs": [],
   "source": [
    "import requests\n",
    "import os\n",
    "import pprint as pp"
   ]
  },
  {
   "cell_type": "code",
   "execution_count": 7,
   "metadata": {},
   "outputs": [
    {
     "name": "stdout",
     "output_type": "stream",
     "text": [
      "Folder exists\n"
     ]
    }
   ],
   "source": [
    "# check to see if folder fire_incidents exists\n",
    "DIRECTORY = 'fire_incidents'\n",
    "CHECK_FOLDER = os.path.isdir(DIRECTORY)\n",
    "\n",
    "# If folder doesn't exist, then create it.\n",
    "if not CHECK_FOLDER:\n",
    "    os.makedirs(DIRECTORY)\n",
    "else:\n",
    "    print(\"Folder exists\")"
   ]
  },
  {
   "cell_type": "code",
   "execution_count": 8,
   "metadata": {},
   "outputs": [],
   "source": [
    "# get the homeless_shelter directory\n",
    "path = os.path.join(os.getcwd(), DIRECTORY)"
   ]
  },
  {
   "cell_type": "code",
   "execution_count": 24,
   "metadata": {},
   "outputs": [],
   "source": [
    "# get the data dictionary\n",
    "for dirpath, subdirs, files in os.walk(path):\n",
    "    subdirs[:] = [d for d in subdirs if d not in '.ipynb_checkpoints' and d not in 'open_data']\n",
    "    for x in files:\n",
    "        if x.split(\".\")[1] == \"xlsx\":\n",
    "            data_dict_path = os.path.join(dirpath, x)\n",
    "\n",
    "# walk through the fire_incidents directory\n",
    "# to find the file all csv files\n",
    "file_paths = []\n",
    "for dirpath, subdirs, files in os.walk(path):\n",
    "    subdirs[:] = [d for d in subdirs if d not in '.ipynb_checkpoints' and d not in 'open_data']\n",
    "    for x in files:\n",
    "        if x.split(\".\")[1] == \"csv\":\n",
    "            if x != \"2011-2018-TORONTO_FIRE_INCIDENTS_WEATHER.csv\":\n",
    "                file_paths.append(os.path.join(dirpath, x))\n",
    "file_paths.sort();\n",
    "# file_paths, a list, holds the pathway to the csv's"
   ]
  },
  {
   "cell_type": "code",
   "execution_count": 11,
   "metadata": {},
   "outputs": [
    {
     "data": {
      "text/html": [
       "<div>\n",
       "<style scoped>\n",
       "    .dataframe tbody tr th:only-of-type {\n",
       "        vertical-align: middle;\n",
       "    }\n",
       "\n",
       "    .dataframe tbody tr th {\n",
       "        vertical-align: top;\n",
       "    }\n",
       "\n",
       "    .dataframe thead th {\n",
       "        text-align: right;\n",
       "    }\n",
       "</style>\n",
       "<table border=\"1\" class=\"dataframe\">\n",
       "  <thead>\n",
       "    <tr style=\"text-align: right;\">\n",
       "      <th></th>\n",
       "      <th>Column</th>\n",
       "      <th>Description</th>\n",
       "      <th>Data Source</th>\n",
       "    </tr>\n",
       "  </thead>\n",
       "  <tbody>\n",
       "    <tr>\n",
       "      <th>0</th>\n",
       "      <td>Incident Number</td>\n",
       "      <td>TFS incident number</td>\n",
       "      <td>TFS RMS System</td>\n",
       "    </tr>\n",
       "    <tr>\n",
       "      <th>1</th>\n",
       "      <td>Initial CAD Event Type</td>\n",
       "      <td>First event type in CAD system of this incident.  \\nIn situations where the initial CAD event type is medical OR the final incident type is medical, the field is set to medical</td>\n",
       "      <td>TFS RMS System</td>\n",
       "    </tr>\n",
       "    <tr>\n",
       "      <th>2</th>\n",
       "      <td>Initial CAD Event Call Type</td>\n",
       "      <td>First call type in CAD system of this incident.  Call type is a group of event types.\\nIn situations where the initial CAD event type is medical OR the final incident type is medical, the field is set to medical</td>\n",
       "      <td>TFS RMS System</td>\n",
       "    </tr>\n",
       "    <tr>\n",
       "      <th>3</th>\n",
       "      <td>Final Incident Type</td>\n",
       "      <td>Final incident type.\\nIn situations where the initial CAD event type is medical OR the final incident type is medical, the field is set to medical</td>\n",
       "      <td>TFS RMS System</td>\n",
       "    </tr>\n",
       "    <tr>\n",
       "      <th>4</th>\n",
       "      <td>Event Alarm Level</td>\n",
       "      <td>Alarm level of the event</td>\n",
       "      <td>TFS RMS System</td>\n",
       "    </tr>\n",
       "    <tr>\n",
       "      <th>5</th>\n",
       "      <td>Call Source</td>\n",
       "      <td>Source of the call to TFS (e.g., 911 call, Alarm, referal agency, etc.)</td>\n",
       "      <td>TFS RMS System</td>\n",
       "    </tr>\n",
       "    <tr>\n",
       "      <th>6</th>\n",
       "      <td>Incident Station Area</td>\n",
       "      <td>TFS Station area where the incident occurred</td>\n",
       "      <td>TFS CAD System</td>\n",
       "    </tr>\n",
       "    <tr>\n",
       "      <th>7</th>\n",
       "      <td>Incident Ward</td>\n",
       "      <td>Ward where the incident occurred, when available</td>\n",
       "      <td>TFS CAD System</td>\n",
       "    </tr>\n",
       "    <tr>\n",
       "      <th>8</th>\n",
       "      <td>LATITUDE</td>\n",
       "      <td>Latitude of nearest major or minor intersection in the ward of the incident.  \\nFor medical calls this data is not provided.</td>\n",
       "      <td>City Of Toronto Open Data, Intersection File</td>\n",
       "    </tr>\n",
       "    <tr>\n",
       "      <th>9</th>\n",
       "      <td>LONGITUDE</td>\n",
       "      <td>Longitude of nearest major or minor intersection in the ward of the incident.  \\nIn situations where the initial CAD event type is medical OR the final incident type is medical, the field is set to the Forward Sortation Area (FSA) where the event occured</td>\n",
       "      <td>City Of Toronto Open Data, Intersection File</td>\n",
       "    </tr>\n",
       "    <tr>\n",
       "      <th>10</th>\n",
       "      <td>Intersection</td>\n",
       "      <td>Nearest major or minor intersection in the ward where the incident occurred</td>\n",
       "      <td>City Of Toronto Open Data, Intersection File or Forward Sortation Area Boundary File, Census year 2016</td>\n",
       "    </tr>\n",
       "    <tr>\n",
       "      <th>11</th>\n",
       "      <td>TFS Alarm Time</td>\n",
       "      <td>Timestamp of when TFS was notified of the incident</td>\n",
       "      <td>TFS RMS System</td>\n",
       "    </tr>\n",
       "    <tr>\n",
       "      <th>12</th>\n",
       "      <td>TFS Arrival Time</td>\n",
       "      <td>Timestamp of first arriving unit to incident</td>\n",
       "      <td>TFS RMS System</td>\n",
       "    </tr>\n",
       "    <tr>\n",
       "      <th>13</th>\n",
       "      <td>Last TFS Unit Clear Time</td>\n",
       "      <td>Timestamp of last unit cleared from incident</td>\n",
       "      <td>TFS RMS System</td>\n",
       "    </tr>\n",
       "    <tr>\n",
       "      <th>14</th>\n",
       "      <td>Persons Rescued</td>\n",
       "      <td>Number of persons rescued</td>\n",
       "      <td>TFS RMS System</td>\n",
       "    </tr>\n",
       "  </tbody>\n",
       "</table>\n",
       "</div>"
      ],
      "text/plain": [
       "                         Column  \\\n",
       "0               Incident Number   \n",
       "1        Initial CAD Event Type   \n",
       "2   Initial CAD Event Call Type   \n",
       "3           Final Incident Type   \n",
       "4             Event Alarm Level   \n",
       "5                   Call Source   \n",
       "6         Incident Station Area   \n",
       "7                 Incident Ward   \n",
       "8                      LATITUDE   \n",
       "9                     LONGITUDE   \n",
       "10                 Intersection   \n",
       "11               TFS Alarm Time   \n",
       "12             TFS Arrival Time   \n",
       "13     Last TFS Unit Clear Time   \n",
       "14              Persons Rescued   \n",
       "\n",
       "                                                                                                                                                                                                                                                       Description  \\\n",
       "0                                                                                                                                                                                                                                             TFS incident number    \n",
       "1                                                                                 First event type in CAD system of this incident.  \\nIn situations where the initial CAD event type is medical OR the final incident type is medical, the field is set to medical   \n",
       "2                                              First call type in CAD system of this incident.  Call type is a group of event types.\\nIn situations where the initial CAD event type is medical OR the final incident type is medical, the field is set to medical   \n",
       "3                                                                                                               Final incident type.\\nIn situations where the initial CAD event type is medical OR the final incident type is medical, the field is set to medical   \n",
       "4                                                                                                                                                                                                                                         Alarm level of the event   \n",
       "5                                                                                                                                                                                          Source of the call to TFS (e.g., 911 call, Alarm, referal agency, etc.)   \n",
       "6                                                                                                                                                                                                                     TFS Station area where the incident occurred   \n",
       "7                                                                                                                                                                                                                 Ward where the incident occurred, when available   \n",
       "8                                                                                                                                     Latitude of nearest major or minor intersection in the ward of the incident.  \\nFor medical calls this data is not provided.   \n",
       "9   Longitude of nearest major or minor intersection in the ward of the incident.  \\nIn situations where the initial CAD event type is medical OR the final incident type is medical, the field is set to the Forward Sortation Area (FSA) where the event occured   \n",
       "10                                                                                                                                                                                     Nearest major or minor intersection in the ward where the incident occurred   \n",
       "11                                                                                                                                                                                                              Timestamp of when TFS was notified of the incident   \n",
       "12                                                                                                                                                                                                                    Timestamp of first arriving unit to incident   \n",
       "13                                                                                                                                                                                                                    Timestamp of last unit cleared from incident   \n",
       "14                                                                                                                                                                                                                                       Number of persons rescued   \n",
       "\n",
       "                                                                                               Data Source  \n",
       "0                                                                                           TFS RMS System  \n",
       "1                                                                                           TFS RMS System  \n",
       "2                                                                                           TFS RMS System  \n",
       "3                                                                                           TFS RMS System  \n",
       "4                                                                                           TFS RMS System  \n",
       "5                                                                                           TFS RMS System  \n",
       "6                                                                                           TFS CAD System  \n",
       "7                                                                                           TFS CAD System  \n",
       "8                                                             City Of Toronto Open Data, Intersection File  \n",
       "9                                                             City Of Toronto Open Data, Intersection File  \n",
       "10  City Of Toronto Open Data, Intersection File or Forward Sortation Area Boundary File, Census year 2016  \n",
       "11                                                                                          TFS RMS System  \n",
       "12                                                                                          TFS RMS System  \n",
       "13                                                                                          TFS RMS System  \n",
       "14                                                                                          TFS RMS System  "
      ]
     },
     "execution_count": 11,
     "metadata": {},
     "output_type": "execute_result"
    }
   ],
   "source": [
    "pd.set_option('max_colwidth', 400)\n",
    "df_meta = pd.read_excel(data_dict_path)\n",
    "df_meta"
   ]
  },
  {
   "cell_type": "code",
   "execution_count": 12,
   "metadata": {},
   "outputs": [],
   "source": [
    "# reset pandas default option\n",
    "pd.reset_option('max_colwidth')"
   ]
  },
  {
   "cell_type": "code",
   "execution_count": 13,
   "metadata": {},
   "outputs": [],
   "source": [
    "# read all 8 .csv files with data into a dictionary\n",
    "# 3 columns can be read in as datetime\n",
    "df_dict = dict()\n",
    "for x in file_paths:\n",
    "    df_dict[x.split(\"\\\\\")[-1]] = pd.read_csv(x, parse_dates=[\"TFS Alarm Time\", \"TFS Arrival Time\", \"Last TFS Unit Clear Time\"])"
   ]
  },
  {
   "cell_type": "code",
   "execution_count": 14,
   "metadata": {},
   "outputs": [
    {
     "data": {
      "text/plain": [
       "dict_keys(['2011_Basic_Incident_Details.csv', '2012_Basic_Incident_Details.csv', '2013_Basic_Incident_Details.csv', '2014_Basic_Incident_Details.csv', '2015_Basic_Incident_Details.csv', '2016_Basic_Incident_Details.csv', '2017_Basic_Incident_Details.csv', '2018_Basic_Incident_Details.csv'])"
      ]
     },
     "execution_count": 14,
     "metadata": {},
     "output_type": "execute_result"
    }
   ],
   "source": [
    "df_dict.keys()"
   ]
  },
  {
   "cell_type": "code",
   "execution_count": 15,
   "metadata": {},
   "outputs": [
    {
     "name": "stdout",
     "output_type": "stream",
     "text": [
      "2011 and 2012:  [ True  True  True  True  True  True  True  True  True  True  True  True\n",
      "  True  True  True]\n",
      "2012 and 2013:  [ True  True  True  True  True  True  True  True  True  True  True  True\n",
      "  True  True  True]\n",
      "2013 and 2014:  [ True  True  True  True  True  True  True  True  True  True  True  True\n",
      "  True  True  True]\n",
      "2014 and 2015:  [ True  True  True  True  True  True  True  True  True  True  True  True\n",
      "  True  True  True]\n",
      "2015 and 2016:  [ True  True  True  True  True  True  True  True  True  True  True  True\n",
      "  True  True  True]\n",
      "2016 and 2017:  [ True  True  True  True  True  True  True  True  True  True  True  True\n",
      "  True  True  True]\n",
      "2017 and 2018:  [ True  True  True  True  True  True  True  True  True  True  True  True\n",
      "  True  True  True]\n"
     ]
    }
   ],
   "source": [
    "# prove that all the columns are equivalent\n",
    "print(\"2011 and 2012: \",df_dict[file_paths[0].split(\"\\\\\")[-1]].columns == df_dict[file_paths[1].split(\"\\\\\")[-1]].columns)\n",
    "print(\"2012 and 2013: \", df_dict[file_paths[1].split(\"\\\\\")[-1]].columns == df_dict[file_paths[2].split(\"\\\\\")[-1]].columns)\n",
    "print(\"2013 and 2014: \", df_dict[file_paths[2].split(\"\\\\\")[-1]].columns == df_dict[file_paths[3].split(\"\\\\\")[-1]].columns)\n",
    "print(\"2014 and 2015: \", df_dict[file_paths[3].split(\"\\\\\")[-1]].columns == df_dict[file_paths[4].split(\"\\\\\")[-1]].columns)\n",
    "print(\"2015 and 2016: \", df_dict[file_paths[4].split(\"\\\\\")[-1]].columns == df_dict[file_paths[5].split(\"\\\\\")[-1]].columns)\n",
    "print(\"2016 and 2017: \", df_dict[file_paths[5].split(\"\\\\\")[-1]].columns == df_dict[file_paths[6].split(\"\\\\\")[-1]].columns)\n",
    "print(\"2017 and 2018: \", df_dict[file_paths[6].split(\"\\\\\")[-1]].columns == df_dict[file_paths[7].split(\"\\\\\")[-1]].columns)"
   ]
  },
  {
   "cell_type": "code",
   "execution_count": 16,
   "metadata": {},
   "outputs": [
    {
     "data": {
      "text/plain": [
       "(975175, 15)"
      ]
     },
     "execution_count": 16,
     "metadata": {},
     "output_type": "execute_result"
    }
   ],
   "source": [
    "# merge all dataframes into 1\n",
    "df = pd.concat([df_dict[x.split(\"\\\\\")[-1]] for x in file_paths])\n",
    "df.shape"
   ]
  },
  {
   "cell_type": "code",
   "execution_count": 17,
   "metadata": {},
   "outputs": [
    {
     "data": {
      "text/plain": [
       "0        2011-01-01\n",
       "1        2011-01-01\n",
       "2        2011-01-01\n",
       "3        2011-01-01\n",
       "4        2011-01-01\n",
       "            ...    \n",
       "133711   2018-12-31\n",
       "133712   2018-12-31\n",
       "133713   2018-12-31\n",
       "133714   2018-12-31\n",
       "133715   2018-12-31\n",
       "Name: Datetime, Length: 975175, dtype: datetime64[ns]"
      ]
     },
     "execution_count": 17,
     "metadata": {},
     "output_type": "execute_result"
    }
   ],
   "source": [
    "# create Datetime column to match Toronto Weather data\n",
    "df[\"Datetime\"] = df[\"TFS Alarm Time\"].dt.floor('d')\n",
    "df[\"Datetime\"]"
   ]
  },
  {
   "cell_type": "code",
   "execution_count": 18,
   "metadata": {},
   "outputs": [
    {
     "name": "stdout",
     "output_type": "stream",
     "text": [
      "Folder exists\n"
     ]
    }
   ],
   "source": [
    "# check to see if folder toronto_weather exists\n",
    "DIRECTORY2 = 'toronto_weather'\n",
    "CHECK_FOLDER = os.path.isdir(DIRECTORY2)\n",
    "\n",
    "# If folder doesn't exist, then create it.\n",
    "if not CHECK_FOLDER:\n",
    "    print(\"Make sure to run toronto_weather.ipynb first\")\n",
    "else:\n",
    "    print(\"Folder exists\")"
   ]
  },
  {
   "cell_type": "code",
   "execution_count": 19,
   "metadata": {},
   "outputs": [],
   "source": [
    "# get the toronto_weather directory\n",
    "path2 = os.path.join(os.getcwd(), DIRECTORY2)"
   ]
  },
  {
   "cell_type": "code",
   "execution_count": 20,
   "metadata": {},
   "outputs": [
    {
     "data": {
      "text/plain": [
       "Datetime     datetime64[ns]\n",
       "MAX_TEMP            float64\n",
       "MIN_TEMP            float64\n",
       "MEAN_TEMP           float64\n",
       "HDD                 float64\n",
       "CDD                 float64\n",
       "RAIN_MM             float64\n",
       "PRECIP_MM           float64\n",
       "SNOW_CM             float64\n",
       "dtype: object"
      ]
     },
     "execution_count": 20,
     "metadata": {},
     "output_type": "execute_result"
    }
   ],
   "source": [
    "# read in the toronto weather data\n",
    "df_weather = pd.read_csv(os.path.join(DIRECTORY2, 'average_toronto_weather_stations_2010_2020.csv'), parse_dates=[\"Datetime\"])\n",
    "df_weather.dtypes"
   ]
  },
  {
   "cell_type": "code",
   "execution_count": 21,
   "metadata": {},
   "outputs": [
    {
     "data": {
      "text/plain": [
       "Index(['Incident Number', 'Initial CAD Event Type',\n",
       "       'Initial CAD Event Call Type', 'Final Incident Type',\n",
       "       'Event Alarm Level', 'Call Source', 'Incident Station Area',\n",
       "       'Incident Ward', 'LATITUDE', 'Longitude', 'Intersection',\n",
       "       'TFS Alarm Time', 'TFS Arrival Time', 'Last TFS Unit Clear Time',\n",
       "       'Persons Rescued', 'Datetime', 'MAX_TEMP', 'MIN_TEMP', 'MEAN_TEMP',\n",
       "       'HDD', 'CDD', 'RAIN_MM', 'PRECIP_MM', 'SNOW_CM'],\n",
       "      dtype='object')"
      ]
     },
     "execution_count": 21,
     "metadata": {},
     "output_type": "execute_result"
    }
   ],
   "source": [
    "# merge fire inxidents and toronto weather data together\n",
    "df_merge = df.merge(df_weather, on=\"Datetime\")\n",
    "df_merge.columns"
   ]
  },
  {
   "cell_type": "code",
   "execution_count": 22,
   "metadata": {},
   "outputs": [
    {
     "data": {
      "text/html": [
       "<div>\n",
       "<style scoped>\n",
       "    .dataframe tbody tr th:only-of-type {\n",
       "        vertical-align: middle;\n",
       "    }\n",
       "\n",
       "    .dataframe tbody tr th {\n",
       "        vertical-align: top;\n",
       "    }\n",
       "\n",
       "    .dataframe thead th {\n",
       "        text-align: right;\n",
       "    }\n",
       "</style>\n",
       "<table border=\"1\" class=\"dataframe\">\n",
       "  <thead>\n",
       "    <tr style=\"text-align: right;\">\n",
       "      <th></th>\n",
       "      <th>Incident Number</th>\n",
       "      <th>Initial CAD Event Type</th>\n",
       "      <th>Initial CAD Event Call Type</th>\n",
       "      <th>Final Incident Type</th>\n",
       "      <th>Event Alarm Level</th>\n",
       "      <th>Call Source</th>\n",
       "      <th>Incident Station Area</th>\n",
       "      <th>Incident Ward</th>\n",
       "      <th>LATITUDE</th>\n",
       "      <th>Longitude</th>\n",
       "      <th>...</th>\n",
       "      <th>Persons Rescued</th>\n",
       "      <th>Datetime</th>\n",
       "      <th>MAX_TEMP</th>\n",
       "      <th>MIN_TEMP</th>\n",
       "      <th>MEAN_TEMP</th>\n",
       "      <th>HDD</th>\n",
       "      <th>CDD</th>\n",
       "      <th>RAIN_MM</th>\n",
       "      <th>PRECIP_MM</th>\n",
       "      <th>SNOW_CM</th>\n",
       "    </tr>\n",
       "  </thead>\n",
       "  <tbody>\n",
       "    <tr>\n",
       "      <th>0</th>\n",
       "      <td>F11000010</td>\n",
       "      <td>Medical</td>\n",
       "      <td>Medical</td>\n",
       "      <td>89 - Other Medical</td>\n",
       "      <td>1</td>\n",
       "      <td>03 - From Ambulance</td>\n",
       "      <td>342.0</td>\n",
       "      <td>9</td>\n",
       "      <td>43.679099</td>\n",
       "      <td>-79.461761</td>\n",
       "      <td>...</td>\n",
       "      <td>0.0</td>\n",
       "      <td>2011-01-01</td>\n",
       "      <td>11.5</td>\n",
       "      <td>0.9</td>\n",
       "      <td>6.4</td>\n",
       "      <td>11.6</td>\n",
       "      <td>0.0</td>\n",
       "      <td>3.7</td>\n",
       "      <td>8.7</td>\n",
       "      <td>0.0</td>\n",
       "    </tr>\n",
       "    <tr>\n",
       "      <th>1</th>\n",
       "      <td>F11000011</td>\n",
       "      <td>Medical</td>\n",
       "      <td>Carbon Monoxide</td>\n",
       "      <td>89 - Other Medical</td>\n",
       "      <td>1</td>\n",
       "      <td>01 - 911</td>\n",
       "      <td>131.0</td>\n",
       "      <td>15</td>\n",
       "      <td>43.726342</td>\n",
       "      <td>-79.396401</td>\n",
       "      <td>...</td>\n",
       "      <td>0.0</td>\n",
       "      <td>2011-01-01</td>\n",
       "      <td>11.5</td>\n",
       "      <td>0.9</td>\n",
       "      <td>6.4</td>\n",
       "      <td>11.6</td>\n",
       "      <td>0.0</td>\n",
       "      <td>3.7</td>\n",
       "      <td>8.7</td>\n",
       "      <td>0.0</td>\n",
       "    </tr>\n",
       "    <tr>\n",
       "      <th>2</th>\n",
       "      <td>F11000012</td>\n",
       "      <td>Medical</td>\n",
       "      <td>Medical</td>\n",
       "      <td>89 - Other Medical</td>\n",
       "      <td>1</td>\n",
       "      <td>03 - From Ambulance</td>\n",
       "      <td>324.0</td>\n",
       "      <td>14</td>\n",
       "      <td>43.668548</td>\n",
       "      <td>-79.335324</td>\n",
       "      <td>...</td>\n",
       "      <td>0.0</td>\n",
       "      <td>2011-01-01</td>\n",
       "      <td>11.5</td>\n",
       "      <td>0.9</td>\n",
       "      <td>6.4</td>\n",
       "      <td>11.6</td>\n",
       "      <td>0.0</td>\n",
       "      <td>3.7</td>\n",
       "      <td>8.7</td>\n",
       "      <td>0.0</td>\n",
       "    </tr>\n",
       "    <tr>\n",
       "      <th>3</th>\n",
       "      <td>F11000013</td>\n",
       "      <td>FIG - Fire - Grass/Rubbish</td>\n",
       "      <td>Emergency Fire</td>\n",
       "      <td>03 - NO LOSS OUTDOOR fire (exc: Sus.arson,vand...</td>\n",
       "      <td>1</td>\n",
       "      <td>01 - 911</td>\n",
       "      <td>345.0</td>\n",
       "      <td>9</td>\n",
       "      <td>43.657123</td>\n",
       "      <td>-79.434313</td>\n",
       "      <td>...</td>\n",
       "      <td>0.0</td>\n",
       "      <td>2011-01-01</td>\n",
       "      <td>11.5</td>\n",
       "      <td>0.9</td>\n",
       "      <td>6.4</td>\n",
       "      <td>11.6</td>\n",
       "      <td>0.0</td>\n",
       "      <td>3.7</td>\n",
       "      <td>8.7</td>\n",
       "      <td>0.0</td>\n",
       "    </tr>\n",
       "    <tr>\n",
       "      <th>4</th>\n",
       "      <td>F11000014</td>\n",
       "      <td>FAHR - Alarm Highrise Residential</td>\n",
       "      <td>Emergency Fire</td>\n",
       "      <td>33 - Human - Malicious intent, prank</td>\n",
       "      <td>1</td>\n",
       "      <td>05 - Telephone from Monitoring Agency</td>\n",
       "      <td>142.0</td>\n",
       "      <td>7</td>\n",
       "      <td>43.759840</td>\n",
       "      <td>-79.516182</td>\n",
       "      <td>...</td>\n",
       "      <td>0.0</td>\n",
       "      <td>2011-01-01</td>\n",
       "      <td>11.5</td>\n",
       "      <td>0.9</td>\n",
       "      <td>6.4</td>\n",
       "      <td>11.6</td>\n",
       "      <td>0.0</td>\n",
       "      <td>3.7</td>\n",
       "      <td>8.7</td>\n",
       "      <td>0.0</td>\n",
       "    </tr>\n",
       "  </tbody>\n",
       "</table>\n",
       "<p>5 rows × 24 columns</p>\n",
       "</div>"
      ],
      "text/plain": [
       "  Incident Number             Initial CAD Event Type  \\\n",
       "0       F11000010                            Medical   \n",
       "1       F11000011                            Medical   \n",
       "2       F11000012                            Medical   \n",
       "3       F11000013         FIG - Fire - Grass/Rubbish   \n",
       "4       F11000014  FAHR - Alarm Highrise Residential   \n",
       "\n",
       "  Initial CAD Event Call Type  \\\n",
       "0                     Medical   \n",
       "1             Carbon Monoxide   \n",
       "2                     Medical   \n",
       "3              Emergency Fire   \n",
       "4              Emergency Fire   \n",
       "\n",
       "                                 Final Incident Type  Event Alarm Level  \\\n",
       "0                                 89 - Other Medical                  1   \n",
       "1                                 89 - Other Medical                  1   \n",
       "2                                 89 - Other Medical                  1   \n",
       "3  03 - NO LOSS OUTDOOR fire (exc: Sus.arson,vand...                  1   \n",
       "4               33 - Human - Malicious intent, prank                  1   \n",
       "\n",
       "                             Call Source  Incident Station Area  \\\n",
       "0                    03 - From Ambulance                  342.0   \n",
       "1                               01 - 911                  131.0   \n",
       "2                    03 - From Ambulance                  324.0   \n",
       "3                               01 - 911                  345.0   \n",
       "4  05 - Telephone from Monitoring Agency                  142.0   \n",
       "\n",
       "   Incident Ward   LATITUDE  Longitude  ... Persons Rescued   Datetime  \\\n",
       "0              9  43.679099 -79.461761  ...             0.0 2011-01-01   \n",
       "1             15  43.726342 -79.396401  ...             0.0 2011-01-01   \n",
       "2             14  43.668548 -79.335324  ...             0.0 2011-01-01   \n",
       "3              9  43.657123 -79.434313  ...             0.0 2011-01-01   \n",
       "4              7  43.759840 -79.516182  ...             0.0 2011-01-01   \n",
       "\n",
       "  MAX_TEMP MIN_TEMP  MEAN_TEMP   HDD  CDD  RAIN_MM  PRECIP_MM  SNOW_CM  \n",
       "0     11.5      0.9        6.4  11.6  0.0      3.7        8.7      0.0  \n",
       "1     11.5      0.9        6.4  11.6  0.0      3.7        8.7      0.0  \n",
       "2     11.5      0.9        6.4  11.6  0.0      3.7        8.7      0.0  \n",
       "3     11.5      0.9        6.4  11.6  0.0      3.7        8.7      0.0  \n",
       "4     11.5      0.9        6.4  11.6  0.0      3.7        8.7      0.0  \n",
       "\n",
       "[5 rows x 24 columns]"
      ]
     },
     "execution_count": 22,
     "metadata": {},
     "output_type": "execute_result"
    }
   ],
   "source": [
    "df_merge.head()"
   ]
  },
  {
   "cell_type": "code",
   "execution_count": 23,
   "metadata": {},
   "outputs": [],
   "source": [
    "# write it to a folder\n",
    "df_merge.to_csv(os.path.join(DIRECTORY, \"2011-2018-TORONTO_FIRE_INCIDENTS_WEATHER.csv\"), index=False)"
   ]
  }
 ],
 "metadata": {
  "kernelspec": {
   "display_name": "Python 3",
   "language": "python",
   "name": "python3"
  },
  "language_info": {
   "codemirror_mode": {
    "name": "ipython",
    "version": 3
   },
   "file_extension": ".py",
   "mimetype": "text/x-python",
   "name": "python",
   "nbconvert_exporter": "python",
   "pygments_lexer": "ipython3",
   "version": "3.7.6"
  }
 },
 "nbformat": 4,
 "nbformat_minor": 4
}
