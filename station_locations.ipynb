{
 "cells": [
  {
   "cell_type": "code",
   "execution_count": 1,
   "metadata": {},
   "outputs": [
    {
     "data": {
      "text/plain": [
       "'1.0.5'"
      ]
     },
     "execution_count": 1,
     "metadata": {},
     "output_type": "execute_result"
    }
   ],
   "source": [
    "import pandas as pd\n",
    "pd.__version__"
   ]
  },
  {
   "cell_type": "code",
   "execution_count": 2,
   "metadata": {},
   "outputs": [
    {
     "data": {
      "text/plain": [
       "'0.6.1'"
      ]
     },
     "execution_count": 2,
     "metadata": {},
     "output_type": "execute_result"
    }
   ],
   "source": [
    "import geopandas as gpd\n",
    "gpd.__version__"
   ]
  },
  {
   "cell_type": "code",
   "execution_count": 5,
   "metadata": {},
   "outputs": [
    {
     "data": {
      "text/plain": [
       "geopandas.geodataframe.GeoDataFrame"
      ]
     },
     "execution_count": 5,
     "metadata": {},
     "output_type": "execute_result"
    }
   ],
   "source": [
    "shapefile = gpd.read_file(\"fire_locations/FIRE_FACILITY_WGS84.shp\")\n",
    "type(shapefile)"
   ]
  },
  {
   "cell_type": "code",
   "execution_count": 11,
   "metadata": {},
   "outputs": [
    {
     "data": {
      "text/html": [
       "<div>\n",
       "<style scoped>\n",
       "    .dataframe tbody tr th:only-of-type {\n",
       "        vertical-align: middle;\n",
       "    }\n",
       "\n",
       "    .dataframe tbody tr th {\n",
       "        vertical-align: top;\n",
       "    }\n",
       "\n",
       "    .dataframe thead th {\n",
       "        text-align: right;\n",
       "    }\n",
       "</style>\n",
       "<table border=\"1\" class=\"dataframe\">\n",
       "  <thead>\n",
       "    <tr style=\"text-align: right;\">\n",
       "      <th></th>\n",
       "      <th>NAME</th>\n",
       "      <th>ADDRESS</th>\n",
       "      <th>X</th>\n",
       "      <th>Y</th>\n",
       "      <th>LATITUDE</th>\n",
       "      <th>LONGITUDE</th>\n",
       "      <th>WARD_NAME</th>\n",
       "      <th>MUN_NAME</th>\n",
       "      <th>OBJECTID</th>\n",
       "      <th>geometry</th>\n",
       "    </tr>\n",
       "  </thead>\n",
       "  <tbody>\n",
       "    <tr>\n",
       "      <th>0</th>\n",
       "      <td>FIRE STATION 214</td>\n",
       "      <td>745 MEADOWVALE RD</td>\n",
       "      <td>331855.873</td>\n",
       "      <td>4850304.607</td>\n",
       "      <td>43.794219</td>\n",
       "      <td>-79.163605</td>\n",
       "      <td>Scarborough East (44)</td>\n",
       "      <td>Scarborough</td>\n",
       "      <td>1567567.0</td>\n",
       "      <td>POINT (-79.16360 43.79422)</td>\n",
       "    </tr>\n",
       "    <tr>\n",
       "      <th>1</th>\n",
       "      <td>FIRE STATION 215</td>\n",
       "      <td>5318 LAWRENCE AVE E</td>\n",
       "      <td>333114.022</td>\n",
       "      <td>4848441.177</td>\n",
       "      <td>43.777401</td>\n",
       "      <td>-79.148069</td>\n",
       "      <td>Scarborough East (44)</td>\n",
       "      <td>Scarborough</td>\n",
       "      <td>2250005.0</td>\n",
       "      <td>POINT (-79.14807 43.77740)</td>\n",
       "    </tr>\n",
       "    <tr>\n",
       "      <th>2</th>\n",
       "      <td>FIRE STATION 221</td>\n",
       "      <td>2575 EGLINTON AVE E</td>\n",
       "      <td>324515.001</td>\n",
       "      <td>4843677.541</td>\n",
       "      <td>43.734799</td>\n",
       "      <td>-79.255066</td>\n",
       "      <td>Scarborough Southwest (35)</td>\n",
       "      <td>Scarborough</td>\n",
       "      <td>2048861.0</td>\n",
       "      <td>POINT (-79.25507 43.73480)</td>\n",
       "    </tr>\n",
       "    <tr>\n",
       "      <th>3</th>\n",
       "      <td>FIRE STATION 222</td>\n",
       "      <td>755 WARDEN AVE</td>\n",
       "      <td>322180.852</td>\n",
       "      <td>4842072.337</td>\n",
       "      <td>43.720408</td>\n",
       "      <td>-79.284094</td>\n",
       "      <td>Scarborough Southwest (35)</td>\n",
       "      <td>Scarborough</td>\n",
       "      <td>2449586.0</td>\n",
       "      <td>POINT (-79.28409 43.72041)</td>\n",
       "    </tr>\n",
       "    <tr>\n",
       "      <th>4</th>\n",
       "      <td>FIRE STATION 223</td>\n",
       "      <td>116 DORSET RD</td>\n",
       "      <td>326275.035</td>\n",
       "      <td>4842479.439</td>\n",
       "      <td>43.723965</td>\n",
       "      <td>-79.233264</td>\n",
       "      <td>Scarborough Southwest (36)</td>\n",
       "      <td>Scarborough</td>\n",
       "      <td>2172861.0</td>\n",
       "      <td>POINT (-79.23326 43.72397)</td>\n",
       "    </tr>\n",
       "    <tr>\n",
       "      <th>...</th>\n",
       "      <td>...</td>\n",
       "      <td>...</td>\n",
       "      <td>...</td>\n",
       "      <td>...</td>\n",
       "      <td>...</td>\n",
       "      <td>...</td>\n",
       "      <td>...</td>\n",
       "      <td>...</td>\n",
       "      <td>...</td>\n",
       "      <td>...</td>\n",
       "    </tr>\n",
       "    <tr>\n",
       "      <th>79</th>\n",
       "      <td>FIRE STATION 145</td>\n",
       "      <td>20 BEFFORT RD</td>\n",
       "      <td>308003.882</td>\n",
       "      <td>4843645.466</td>\n",
       "      <td>43.734764</td>\n",
       "      <td>-79.460035</td>\n",
       "      <td>York Centre (9)</td>\n",
       "      <td>North York</td>\n",
       "      <td>3186765.0</td>\n",
       "      <td>POINT (-79.46004 43.73476)</td>\n",
       "    </tr>\n",
       "    <tr>\n",
       "      <th>80</th>\n",
       "      <td>FIRE STATION 146</td>\n",
       "      <td>2220 JANE ST</td>\n",
       "      <td>303996.599</td>\n",
       "      <td>4842402.430</td>\n",
       "      <td>43.723581</td>\n",
       "      <td>-79.509779</td>\n",
       "      <td>York West (7)</td>\n",
       "      <td>North York</td>\n",
       "      <td>3072600.0</td>\n",
       "      <td>POINT (-79.50978 43.72358)</td>\n",
       "    </tr>\n",
       "    <tr>\n",
       "      <th>81</th>\n",
       "      <td>FIRE STATION 211</td>\n",
       "      <td>900 TAPSCOTT RD</td>\n",
       "      <td>325466.636</td>\n",
       "      <td>4853590.517</td>\n",
       "      <td>43.824001</td>\n",
       "      <td>-79.242873</td>\n",
       "      <td>Scarborough-Rouge River (42)</td>\n",
       "      <td>Scarborough</td>\n",
       "      <td>1520443.0</td>\n",
       "      <td>POINT (-79.24287 43.82400)</td>\n",
       "    </tr>\n",
       "    <tr>\n",
       "      <th>82</th>\n",
       "      <td>FIRE STATION 212</td>\n",
       "      <td>8500 SHEPPARD AVE E</td>\n",
       "      <td>329838.107</td>\n",
       "      <td>4851487.882</td>\n",
       "      <td>43.804941</td>\n",
       "      <td>-79.188623</td>\n",
       "      <td>Scarborough-Rouge River (42)</td>\n",
       "      <td>Scarborough</td>\n",
       "      <td>2303629.0</td>\n",
       "      <td>POINT (-79.18862 43.80494)</td>\n",
       "    </tr>\n",
       "    <tr>\n",
       "      <th>83</th>\n",
       "      <td>FIRE STATION 213</td>\n",
       "      <td>7 LAPSLEY RD</td>\n",
       "      <td>326837.049</td>\n",
       "      <td>4850419.039</td>\n",
       "      <td>43.795415</td>\n",
       "      <td>-79.225965</td>\n",
       "      <td>Scarborough-Rouge River (42)</td>\n",
       "      <td>Scarborough</td>\n",
       "      <td>2458686.0</td>\n",
       "      <td>POINT (-79.22597 43.79542)</td>\n",
       "    </tr>\n",
       "  </tbody>\n",
       "</table>\n",
       "<p>84 rows × 10 columns</p>\n",
       "</div>"
      ],
      "text/plain": [
       "                NAME              ADDRESS           X            Y   LATITUDE  \\\n",
       "0   FIRE STATION 214    745 MEADOWVALE RD  331855.873  4850304.607  43.794219   \n",
       "1   FIRE STATION 215  5318 LAWRENCE AVE E  333114.022  4848441.177  43.777401   \n",
       "2   FIRE STATION 221  2575 EGLINTON AVE E  324515.001  4843677.541  43.734799   \n",
       "3   FIRE STATION 222       755 WARDEN AVE  322180.852  4842072.337  43.720408   \n",
       "4   FIRE STATION 223        116 DORSET RD  326275.035  4842479.439  43.723965   \n",
       "..               ...                  ...         ...          ...        ...   \n",
       "79  FIRE STATION 145        20 BEFFORT RD  308003.882  4843645.466  43.734764   \n",
       "80  FIRE STATION 146         2220 JANE ST  303996.599  4842402.430  43.723581   \n",
       "81  FIRE STATION 211      900 TAPSCOTT RD  325466.636  4853590.517  43.824001   \n",
       "82  FIRE STATION 212  8500 SHEPPARD AVE E  329838.107  4851487.882  43.804941   \n",
       "83  FIRE STATION 213         7 LAPSLEY RD  326837.049  4850419.039  43.795415   \n",
       "\n",
       "    LONGITUDE                     WARD_NAME     MUN_NAME   OBJECTID  \\\n",
       "0  -79.163605         Scarborough East (44)  Scarborough  1567567.0   \n",
       "1  -79.148069         Scarborough East (44)  Scarborough  2250005.0   \n",
       "2  -79.255066    Scarborough Southwest (35)  Scarborough  2048861.0   \n",
       "3  -79.284094    Scarborough Southwest (35)  Scarborough  2449586.0   \n",
       "4  -79.233264    Scarborough Southwest (36)  Scarborough  2172861.0   \n",
       "..        ...                           ...          ...        ...   \n",
       "79 -79.460035               York Centre (9)   North York  3186765.0   \n",
       "80 -79.509779                 York West (7)   North York  3072600.0   \n",
       "81 -79.242873  Scarborough-Rouge River (42)  Scarborough  1520443.0   \n",
       "82 -79.188623  Scarborough-Rouge River (42)  Scarborough  2303629.0   \n",
       "83 -79.225965  Scarborough-Rouge River (42)  Scarborough  2458686.0   \n",
       "\n",
       "                      geometry  \n",
       "0   POINT (-79.16360 43.79422)  \n",
       "1   POINT (-79.14807 43.77740)  \n",
       "2   POINT (-79.25507 43.73480)  \n",
       "3   POINT (-79.28409 43.72041)  \n",
       "4   POINT (-79.23326 43.72397)  \n",
       "..                         ...  \n",
       "79  POINT (-79.46004 43.73476)  \n",
       "80  POINT (-79.50978 43.72358)  \n",
       "81  POINT (-79.24287 43.82400)  \n",
       "82  POINT (-79.18862 43.80494)  \n",
       "83  POINT (-79.22597 43.79542)  \n",
       "\n",
       "[84 rows x 10 columns]"
      ]
     },
     "execution_count": 11,
     "metadata": {},
     "output_type": "execute_result"
    }
   ],
   "source": [
    "# convert it to pandas dataframe\n",
    "df = pd.DataFrame(shapefile)\n",
    "df"
   ]
  },
  {
   "cell_type": "code",
   "execution_count": 12,
   "metadata": {},
   "outputs": [],
   "source": [
    "# write it to csv\n",
    "df.to_csv(\"fire_locations/Toronto_Fire_Services.csv\", index=False)"
   ]
  }
 ],
 "metadata": {
  "kernelspec": {
   "display_name": "Python 3",
   "language": "python",
   "name": "python3"
  },
  "language_info": {
   "codemirror_mode": {
    "name": "ipython",
    "version": 3
   },
   "file_extension": ".py",
   "mimetype": "text/x-python",
   "name": "python",
   "nbconvert_exporter": "python",
   "pygments_lexer": "ipython3",
   "version": "3.8.3"
  }
 },
 "nbformat": 4,
 "nbformat_minor": 4
}
